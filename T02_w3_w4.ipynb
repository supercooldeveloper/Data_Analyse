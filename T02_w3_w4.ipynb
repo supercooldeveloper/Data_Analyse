{
 "cells": [
  {
   "cell_type": "markdown",
   "metadata": {},
   "source": [
    "Определить время года по номеру месяца."
   ]
  },
  {
   "cell_type": "code",
   "execution_count": 2,
   "metadata": {},
   "outputs": [
    {
     "name": "stdout",
     "output_type": "stream",
     "text": [
      "Введите номер месяца 12\n",
      "Winter\n"
     ]
    }
   ],
   "source": [
    "n = int(input('Enter the number of month '))\n",
    "\n",
    "if n >= 1 and n<=2:\n",
    "    print('Winter')\n",
    "elif n >= 3 and n<=5:\n",
    "    print('Spring')\n",
    "elif n >= 6 and n<=8:\n",
    "    print('Summer')\n",
    "elif n >= 9 and n<=11:\n",
    "    print('Fall')\n",
    "elif n == 12:\n",
    "    print('Winter')"
   ]
  },
  {
   "cell_type": "markdown",
   "metadata": {},
   "source": [
    "Определить минимальное значение среди чисел a,b,c,d \n",
    "(не использовать стандартные функции max и min)."
   ]
  },
  {
   "cell_type": "code",
   "execution_count": null,
   "metadata": {},
   "outputs": [],
   "source": [
    "a, b, c, d = input(\"Enter a \"), input(\"Enter b \"), input(\"Enter c \"), input(\"Enter d \")\n",
    "\n",
    "max = 0\n",
    "min = 0\n",
    "\n",
    "if a > b and a > c and a > d:\n",
    "    max = a\n",
    "elif b > a and b > c and b > d:\n",
    "    max = b\n",
    "elif c > a and c > b and c > d:\n",
    "    max = c\n",
    "else:\n",
    "    max = d\n",
    "\n",
    "if a < b and a < c and a < d:\n",
    "    min = a\n",
    "elif b < a and b < c and b < d:\n",
    "    min = b\n",
    "elif c < a and c < b and c < d:\n",
    "    min = c\n",
    "else:\n",
    "    min = d\n",
    "\n",
    "print(\"max: \", max, \"min: \", min)"
   ]
  },
  {
   "cell_type": "markdown",
   "metadata": {},
   "source": [
    "Напишите программу, которая переводит оценку из 100-балльной системы в пятибалльную по правилам, принятым в университете"
   ]
  },
  {
   "cell_type": "code",
   "execution_count": 1,
   "metadata": {},
   "outputs": [
    {
     "name": "stdout",
     "output_type": "stream",
     "text": [
      "Enter the number 65\n",
      "4\n"
     ]
    }
   ],
   "source": [
    "a = int(input('Enter the number '))\n",
    "\n",
    "if a >= 1 and a <= 20:\n",
    "    print(1)\n",
    "elif a > 20 and a < 40:\n",
    "    print(2)\n",
    "elif a >= 40 and a <= 60:\n",
    "    print(3)\n",
    "elif a > 60 and a <= 80:\n",
    "    print(4)\n",
    "elif a > 80 and a <= 100:\n",
    "    print(5)\n",
    "else:\n",
    "    print('Wrong format')"
   ]
  },
  {
   "cell_type": "markdown",
   "metadata": {},
   "source": [
    "Вычислить значение F:F=1, если цифра 7 входит в запись заданного трехзначного числа, и 0 – в противном случае"
   ]
  },
  {
   "cell_type": "code",
   "execution_count": 4,
   "metadata": {},
   "outputs": [
    {
     "name": "stdout",
     "output_type": "stream",
     "text": [
      "Enter 3-digit number 544\n",
      "F = 0\n"
     ]
    }
   ],
   "source": [
    "a = int(input('Enter 3- digit number '))\n",
    "\n",
    "F = -1\n",
    "if '7' in str(a):\n",
    "    print(\"F = 1\")\n",
    "else:\n",
    "    print(\"F = 0\")"
   ]
  },
  {
   "cell_type": "code",
   "execution_count": null,
   "metadata": {},
   "outputs": [],
   "source": [
    "По номеру года определите, является ли данный год високосным. (год является високосным, если его номер кратен 4, но не кратен 100, а также если он кратен 400)."
   ]
  },
  {
   "cell_type": "code",
   "execution_count": 6,
   "metadata": {},
   "outputs": [
    {
     "name": "stdout",
     "output_type": "stream",
     "text": [
      "Enter year: 2000\n",
      "Leap year\n"
     ]
    }
   ],
   "source": [
    "a = int(input(\"Enter year: \"))\n",
    "\n",
    "if a%4==0 and a%100!=0 or a%400==0:\n",
    "    print('Leap year')\n",
    "else:\n",
    "    print('Usual year')"
   ]
  },
  {
   "cell_type": "markdown",
   "metadata": {},
   "source": [
    "Для отрезков длины a, b, c определить, \n",
    "можно ли из них составить треугольник и является ли этот треугольник прямоугольным"
   ]
  },
  {
   "cell_type": "code",
   "execution_count": 7,
   "metadata": {},
   "outputs": [
    {
     "name": "stdout",
     "output_type": "stream",
     "text": [
      "Straight- cornered\n"
     ]
    }
   ],
   "source": [
    "a = 3\n",
    "b = 4\n",
    "c = 5\n",
    "if (b*b)+(c*c) == (a*a):\n",
    "    print(\"Straight- cornered\")\n",
    "elif (a*a)+(c*c) == (b*b):\n",
    "    print(\"Straight- cornered\")\n",
    "elif (a*a)+(b*b) == (c*c):\n",
    "    print(\"Straight- cornered\")\n",
    "else:\n",
    "    print(\"Non Straight- cornered\")"
   ]
  },
  {
   "cell_type": "markdown",
   "metadata": {},
   "source": [
    "Pешить квадратное уравнение"
   ]
  },
  {
   "cell_type": "code",
   "execution_count": 11,
   "metadata": {},
   "outputs": [
    {
     "name": "stdout",
     "output_type": "stream",
     "text": [
      "Enter a 1\n",
      "Enter b 4\n",
      "Enter c 1\n",
      "x1:  -5.0 x2:  1.0\n"
     ]
    }
   ],
   "source": [
    "a = float(input('Enter a '))\n",
    "b = float(input('Enter b '))\n",
    "c = float(input('Enter c '))\n",
    "d = b**2 - 4*a*c\n",
    "if d >= 1:\n",
    "    print(\"x1: \", (-b-d**1/2)/2*a)\n",
    "    print(\"x2: \", (-b+d**1/2)/2*a)\n",
    "if d == 0:\n",
    "    print(\"x1, x2: \", (-b-d**1/2)/2*a)\n",
    "if d < 0:\n",
    "    print(\"There are no roots\")"
   ]
  },
  {
   "cell_type": "markdown",
   "metadata": {},
   "source": [
    "Вводится целое число. Выведите его на экран и допишите к нему слова «рубль», \n",
    "«рубля» или «рублей» в зависимости от значения. \n",
    "\n",
    "Алгоритм:\n",
    "исключение: если число оканчивается на 11, 12, 13 или 14, добавляем слово \n",
    "«рублей»;\n",
    "если число оканчивается на 1, добавляем слово «рубль»;\n",
    "если число оканчивается на 2, 3 или 4, добавляем слово «рубля»;\n",
    "если число оканчивается на цифры 5, 6, 7, 8, 9 или 0, добавляем слово «рублей»"
   ]
  },
  {
   "cell_type": "code",
   "execution_count": 28,
   "metadata": {},
   "outputs": [
    {
     "name": "stdout",
     "output_type": "stream",
     "text": [
      "Enter integer number 8\n",
      "8 рублей\n"
     ]
    }
   ],
   "source": [
    "a = input('Enter integer number ')\n",
    "if a[-2:] == 11 and a[-2:] == 12 and a[-2:] == 13 and a[-2:] == 14:\n",
    "    print(f\"{a} рублей\")\n",
    "elif a[-1] == 1:\n",
    "    print(f\"{a} рубль\")\n",
    "elif a[-1] == 2 and  a[-1] == 3 and  a[-1] == 4:\n",
    "    print(f\"{a} рубля\")\n",
    "else:\n",
    "    print(f\"{a} рублей\")"
   ]
  },
  {
   "cell_type": "markdown",
   "metadata": {},
   "source": [
    "Пользователь поочередно вводит координаты точки в декартовой системе \n",
    "координат. Определить, какой четверти принадлежит данная точка или на какой \n",
    "оси она находится. Расположение точки вывести на экран. Найти произведение \n",
    "номера четверти на расстояние от этой точки до начала координат и вывести его на \n",
    "экран. Если точка лежит на оси, считать, что номер четверти равен 0"
   ]
  },
  {
   "cell_type": "code",
   "execution_count": 33,
   "metadata": {},
   "outputs": [
    {
     "name": "stdout",
     "output_type": "stream",
     "text": [
      "Enter x3\n",
      "Enter y4\n",
      "Quarter:  1 Cords:  3.0   4.0\n",
      "Result:  12.5\n"
     ]
    }
   ],
   "source": [
    "def quarter(x, y):\n",
    "    if x < 0 and y > 0:\n",
    "        return 2\n",
    "    elif x > 0 and y > 0:\n",
    "        return 1\n",
    "    elif x < 0 and y > 0:\n",
    "        return 3\n",
    "    else:\n",
    "        return 4\n",
    "\n",
    "x = float(input('Enter x '))\n",
    "y = float(input('Enter y '))\n",
    "\n",
    "print(\"Quarter: \", quarter(x,y), \", Cords: \",x ,\" \", y)\n",
    "print(\"Result: \", quarter(x,y)*((x*x+y*y)**1/2))"
   ]
  },
  {
   "cell_type": "markdown",
   "metadata": {},
   "source": [
    "Выведите значение заданного целого числа от 0 до 999 прописью. Например, «сто \n",
    "девяносто один» для числа 191, «одиннадцать» для числа 11"
   ]
  },
  {
   "cell_type": "markdown",
   "metadata": {},
   "source": [
    "Вычислите значение выражения, которое состоит из целых чисел и знаков «+» и \n",
    "«-». Выражение вводится как символьная строка."
   ]
  },
  {
   "cell_type": "code",
   "execution_count": 41,
   "metadata": {},
   "outputs": [
    {
     "name": "stdout",
     "output_type": "stream",
     "text": [
      "34 + 34 - 68\n",
      "0\n"
     ]
    }
   ],
   "source": [
    "s = input()\n",
    "print(eval(s))"
   ]
  },
  {
   "cell_type": "markdown",
   "metadata": {},
   "source": [
    "Пользователь поочередно вводит 2 строки. Определите, какая строка длиннее и на сколько символов, а какая строка стоит раньше в лексикографическом порядке. Собрать результирующую строку, которая бы содержала 1 и 2 строки, разделенные переносом строки."
   ]
  },
  {
   "cell_type": "code",
   "execution_count": 107,
   "metadata": {},
   "outputs": [
    {
     "name": "stdout",
     "output_type": "stream",
     "text": [
      "Первая строка больше !\n",
      "Первая строка раньше !\n",
      "aaaaaaa\n",
      "bb\n"
     ]
    }
   ],
   "source": [
    "s1 = input('Enter string 1')\n",
    "s2 = input('Enter string 2')\n",
    "\n",
    "if len(s1)>len(s2):\n",
    "    print(\"The first string is longer\")\n",
    "elif len(s1)==len(s2):\n",
    "    print(\"Strings are equal\")\n",
    "else:\n",
    "    print(\"The second string is longer\")\n",
    "\n",
    "if s1<s2:\n",
    "    print(\"The first string is earlier\")\n",
    "else:\n",
    "    print(\"The second string is earlier\")\n",
    "\n",
    "print(f\"{stroka1}\\n{stroka2}\")\n"
   ]
  },
  {
   "cell_type": "markdown",
   "metadata": {},
   "source": [
    "Реализовать калькулятор, который принимает от пользователя через пробел строку следующего вида: «a op b», где a и b – некоторые числа, а ‘op’ определяет оператор и может принимать значения $+,-,*,/,**,%$. В зависимости от оператора с помощью форматирования строк вывести результат в виде: «a + b = 3 + 2 = 5», где была получена строка «3 + 2». Для операций возведения в степень и деления по модулю использовать вместо знака оператора соответствующие выражения. Например, для строки «2 ** 3» должно быть выведено «a в степени b = 2 в степени 3 = 8»."
   ]
  },
  {
   "cell_type": "code",
   "execution_count": 44,
   "metadata": {},
   "outputs": [
    {
     "name": "stdout",
     "output_type": "stream",
     "text": [
      "Enter expression 43 * 2\n",
      "43 * 2 = 86\n"
     ]
    }
   ],
   "source": [
    "exp = input(\"Enter expression \").split(\" \")\n",
    "\n",
    "a = int(exp[0])\n",
    "b = int(exp[2])\n",
    "\n",
    "if exp[1] == '+':\n",
    "    print(f\"{a} + {b} = {a+b}\")\n",
    "elif exp[1] == '-':\n",
    "    print(f\"{a} - {b} = {a-b}\")\n",
    "elif exp[1] == '*':\n",
    "    print(f\"{a} * {b} = {a*b}\")\n",
    "elif exp[1] == '/':\n",
    "    print(f\"{a} / {b} = {a/b}\")\n",
    "elif exp[1] == '%':\n",
    "    print(f\"{a} % {b} = {a%b}\")\n",
    "elif exp[1] == '%':\n",
    "    print(f\"{a} ** {b} = {a**b}\")"
   ]
  },
  {
   "cell_type": "markdown",
   "metadata": {},
   "source": [
    "Из множества целых чисел от 1 до N выделить множество N2 числа, кратные 2, множество N3 – кратные 3, множество N6 – кратные 6 (т.е. кратные и 2 и 3), множество N 23 – кратные либо 2, либо 3."
   ]
  },
  {
   "cell_type": "code",
   "execution_count": 51,
   "metadata": {},
   "outputs": [
    {
     "name": "stdout",
     "output_type": "stream",
     "text": [
      "Enter array 12\n",
      "Multiple 2: 0, 2, 4, 6, 8, 10, \n",
      "Multiple 3: 0, 3, 6, 9, \n",
      "Multiple 6: 0, 6, \n",
      "Multiple 23: 0, 2, 3, 4, 6, 8, 9, 10, \n"
     ]
    }
   ],
   "source": [
    "n = int(input(\"Enter number \"))\n",
    "N2 = ''\n",
    "N3 = ''\n",
    "N6 = ''\n",
    "N23 = ''\n",
    "\n",
    "for i in range(n):\n",
    "    if i%2 == 0:\n",
    "        N2 += str(i) + ', ' \n",
    "    if i%3 == 0:\n",
    "        N3 += str(i) + ', ' \n",
    "    if i%6 == 0:\n",
    "        N6 += str(i) + ', ' \n",
    "    if i%2 == 0 or i%3 == 0:\n",
    "        N23 += str(i) + ', ' \n",
    "\n",
    "\n",
    "if len(N2):\n",
    "    print(f\"Multiple 2: {N2}\")\n",
    "if len(N3):\n",
    "    print(f\"Multiple 3: {N3}\")\n",
    "if len(N6):\n",
    "    print(f\"Multiple 6: {N6}\")\n",
    "if len(N23):\n",
    "    print(f\"Multiple 23: {N23}\")"
   ]
  },
  {
   "cell_type": "markdown",
   "metadata": {},
   "source": [
    "Даны m (m>1) слов. Найти общее количество заданной буквы в этих словах."
   ]
  },
  {
   "cell_type": "code",
   "execution_count": 53,
   "metadata": {},
   "outputs": [
    {
     "name": "stdout",
     "output_type": "stream",
     "text": [
      "Enter word Hello\n",
      "Enter letter l\n",
      "Number of letters  l  in word:  2\n"
     ]
    }
   ],
   "source": [
    "word = input('Enter word ')\n",
    "letter = input('Enter letter ')\n",
    "count = 0\n",
    "for i in word:\n",
    "    if i == letter:\n",
    "        count += 1\n",
    "print(f\"Number of letters \", letter, \" in word: \", count)"
   ]
  },
  {
   "cell_type": "markdown",
   "metadata": {},
   "source": [
    "Даны m (m>1) слов. В каком из них доля (в %) заданной буквы больше."
   ]
  },
  {
   "cell_type": "code",
   "execution_count": 59,
   "metadata": {},
   "outputs": [
    {
     "name": "stdout",
     "output_type": "stream",
     "text": [
      "heeeelo my nameeeeeeeee\n",
      "e\n",
      "In the 3 word there are 75.0% of letters e\n"
     ]
    }
   ],
   "source": [
    "m = input().split(\" \")\n",
    "letter = input()\n",
    "\n",
    "percent = 0\n",
    "idxWord = 0\n",
    "idxSub = 0\n",
    "\n",
    "for i in m:\n",
    "    idxSub += 1\n",
    "    if i.count(letter) > 0:\n",
    "        if  i.count(letter)/len(i) * 100 > percent:\n",
    "            idxWord = idxSub\n",
    "            percent = i.count(letter)/len(i) * 100 \n",
    "            \n",
    "print(f\"In the {idxWord} word there are {percent}% of letters {letter}\")"
   ]
  },
  {
   "cell_type": "code",
   "execution_count": null,
   "metadata": {},
   "outputs": [],
   "source": []
  }
 ],
 "metadata": {
  "kernelspec": {
   "display_name": "Python 3 (ipykernel)",
   "language": "python",
   "name": "python3"
  },
  "language_info": {
   "codemirror_mode": {
    "name": "ipython",
    "version": 3
   },
   "file_extension": ".py",
   "mimetype": "text/x-python",
   "name": "python",
   "nbconvert_exporter": "python",
   "pygments_lexer": "ipython3",
   "version": "3.11.4"
  }
 },
 "nbformat": 4,
 "nbformat_minor": 2
}
