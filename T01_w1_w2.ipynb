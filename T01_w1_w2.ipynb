{
 "cells": [
  {
   "attachments": {},
   "cell_type": "markdown",
   "metadata": {
    "toc": true
   },
   "source": [
    "<h1>Table of Contents<span class=\"tocSkip\"></span></h1>\n",
    "<div class=\"toc\"><ul class=\"toc-item\"><li><span><a href=\"#Тема-1.-Введение-в-программирование-на-языке-Python\" data-toc-modified-id=\"Тема-1.-Введение-в-программирование-на-языке-Python-1\"><span class=\"toc-item-num\">1&nbsp;&nbsp;</span>Тема 1. Введение в программирование на языке Python</a></span></li><li><span><a href=\"#Задания\" data-toc-modified-id=\"Задания-2\"><span class=\"toc-item-num\">2&nbsp;&nbsp;</span>Задания</a></span></li><li><span><a href=\"#1.-Числовые-и-строковые-типы-данных-языка-Python.-Управляющие-конструкции.\" data-toc-modified-id=\"1.-Числовые-и-строковые-типы-данных-языка-Python.-Управляющие-конструкции.-3\"><span class=\"toc-item-num\">3&nbsp;&nbsp;</span>1. Числовые и строковые типы данных языка Python. Управляющие конструкции.</a></span><ul class=\"toc-item\"><li><span><a href=\"#1.1.-Работа-с-числами.-Базовые-числовые-типы-int-и-float\" data-toc-modified-id=\"1.1.-Работа-с-числами.-Базовые-числовые-типы-int-и-float-3.1\"><span class=\"toc-item-num\">3.1&nbsp;&nbsp;</span>1.1. Работа с числами. Базовые числовые типы int и float</a></span></li><li><span><a href=\"#1.2.-Строки,-функции-и-методы-работы-со-строками\" data-toc-modified-id=\"1.2.-Строки,-функции-и-методы-работы-со-строками-3.2\"><span class=\"toc-item-num\">3.2&nbsp;&nbsp;</span>1.2. Строки, функции и методы работы со строками</a></span></li></ul></li></ul></div>"
   ]
  },
  {
   "attachments": {},
   "cell_type": "markdown",
   "metadata": {},
   "source": [
    "\n",
    "# Тема 1. Введение в программирование на языке Python"
   ]
  },
  {
   "attachments": {},
   "cell_type": "markdown",
   "metadata": {},
   "source": [
    "# Задания\n",
    "\n",
    "Выполните задания\n",
    "\n",
    "# 1. Числовые и строковые типы данных языка Python. Управляющие конструкции.\n",
    "\n",
    "## 1.1. Работа с числами. Базовые числовые типы int и float\n",
    "\n",
    "1. Значения переменных А и В ввести с клавиатуры и вывести на экран. После этого значения меняются местами, т.е. A нужно присвоить значение B, а B – значение A, и вновь значения переменных вывести на экран.\n",
    "\n",
    "2. Значение x вводится с клавиатуры. Вычислите $y=(x+1)^2\\cdot \\sqrt{x^3+1}$ Выведите на экран значения $x$ и $y$ с тремя знаками после запятой.\n",
    "\n",
    "3. Вычислите сумму цифр пятизначного числа.\n",
    "\n",
    "4. Для заданного трехзначного числа выведите число, у которого цифры идут в обратном порядке, например, для числа 123 ответ 321.\n",
    "\n",
    "5. Ввести координаты 2 точек: $(x_1,y_1)$ и $(x_2,y_2)$. Вычислите расстояние между этими точками.  Результат выведите с 5 знаками после запятой.\n",
    "\n",
    "6. Разработать программу вычисления по известному радиусу площади круга и длины окружности.\n",
    "\n",
    "7. Разработать программу по вычислению площади кольца по известным значениям его внешнего и внутреннего радиусов.\n",
    "\n",
    "8. Разработать программу вычисления радиуса круга и его площади по известной длине окружности.\n",
    "\n",
    "9. Разработать программу вычисления объема шара: а) по радиусу; б) по длине его экваториальной параллели. Объём шара рассчитывается по формуле $V=\\frac{4}{3}\\pi{r^3}$, где $r$ - радиус.\n",
    "\n",
    "10. Имеются два $n$–мерных вектора $x$ и $y$, которые задают координаты $n$ точек на плоскости (случайные целые числа). Найти наиболее близкие друг другу точки.\n",
    "\n",
    "11. Треугольник задан координатами своих вершин: $(x_1,y_1),(x_2,y_2),(x_3,y_3)$. Значения координат определите с помощью присваивания. Они могут быть нецелыми. Найти периметр и площадь треугольника.\n",
    "\n",
    "12. Пусть пользователь вводит 5 чисел: а, b, c, d, e. Реализуйте программу расчета выражения вида $res=\\frac{a+bc}{2d-e}+Ost[b^e/c]$, где $Ost$ - остаток от деления. Учесть невозможность деления на 0.\n",
    "\n",
    "\n",
    "## 1.2. Строки, функции и методы работы со строками\n",
    "\n",
    "1. Введите строку, состоящую из двух цифр. Преобразуйте ее в целое и вещественное число. Выведите полученные три значения (строку, целое число, вещественное число) на экран в одной строке через запятую, затем пропустите строку и вновь выведите значения по одному на строке. Перед каждым значением выведите его тип.\n",
    "\n",
    "2. Для строки 'Финансовый университет' двумя способами получить подстроку с 1-го по 4-й символы включительно.\n",
    "\n",
    "3. Составить строку из всех четных символов строки 'Финансовый университет'.\n",
    "\n",
    "4. Получить подстроку неизвестной заранее строки, содержащую половину символов строки и расположенную посередине строки.\n",
    "\n",
    "5. Коротко записать создание строки 'oneoneoneoneoneonetwotwotwo'\n",
    "\n",
    "6. Для введенной строки выведите (на отдельной строке):\n",
    "- второй символ этой строки;\n",
    "- предпоследний символ этой строки;\n",
    "- всю строку, кроме последних двух символов;\n",
    "- все символы с четными индексами (считая, что индексация начинается с 0, поэтому символы выводятся, начиная с первого);\n",
    "- все символы с нечетными индексами, то есть начиная со второго символа строки;\n",
    "- все символы в обратном порядке;\n",
    "- все символы строки через один в обратном порядке, начиная с последнего;\n",
    "- длину данной строки.\n",
    "\n",
    "7. Не используя метод count, для заданной строки выполните:\n",
    "- если символ * в данной строке отсутствует, выведите текст «нет символа»;\n",
    "- если символ * встречается в строке только один раз, выведите его индекс;\n",
    "- если символ * встречается два и более раз, выведите индекс его первого, второго и последнего вхождения, удалите первый и последний символ * из строки.\n",
    "\n",
    "8. Дана строка, состоящая из слов, разделенных пробелами. В этой строке:\n",
    "- удалите все лишние пробелы (в начале, в конце, между словами оставить ровно один пробел);\n",
    "- поменяйте регистр символов (строчные сделать прописными, прописные – строчными);\n",
    "- определите, сколько в ней слов.\n",
    "\n",
    "9. Строка содержит фамилию, имя и отчество, записанные через пробелы. Например «Иванов Иван Иванович». Для этой строки:\n",
    "- выведите информацию в виде:\n",
    "```\n",
    "Фамилия       Иванов\n",
    "Имя           Иван\n",
    "Отчество      Иванович\n",
    "```\n",
    "- получите строки вида «Иванов И.И.» и «И.И. Иванов».\n",
    "\n",
    "10. Напишите программу, которая осуществляет вывод кошки на экран. Примечание: кошка выглядят примерно так:\n",
    "```\n",
    "         /\\_/\\ \n",
    "         /@ @\\ \n",
    "        (~~0~~)\n",
    "\n",
    " ```\n",
    "\n",
    "11. Для двух произвольных строк провести сравнение на совпадение содержимого без учета регистра букв и начальных и конечных пробельных символов. Например, для двух строк ' HeLLO WOrlD' и 'hello WORLD ' такое сравнение должно возвращать True (содержание строк совпадает).\n",
    "\n",
    "12. По номеру года определите, является ли данный год високосным. (год является високосным, если его номер кратен 4, но не кратен 100, а также если он кратен 400).\n",
    "\n",
    "18. Даны точки $A=(1,1),B=(5,5),C=(1,4),D=(7,2)$. Найти точку пересечения отрезков $AB$ и $CD$."
   ]
  },
  {
   "attachments": {},
   "cell_type": "markdown",
   "metadata": {},
   "source": [
    "Значения переменных А и В ввести с клавиатуры и вывести на экран. После этого значения меняются местами, т.е. A нужно присвоить значение B, а B – значение A, и вновь значения переменных вывести на экран."
   ]
  },
  {
   "cell_type": "code",
   "execution_count": 2,
   "metadata": {},
   "outputs": [
    {
     "name": "stdout",
     "output_type": "stream",
     "text": [
      "a = 2\n",
      "b = 1\n"
     ]
    }
   ],
   "source": [
    "a = int(input(\"Enter number a \"))\n",
    "b = int(input(\"Enter number b \"))\n",
    "temp=a\n",
    "a=b\n",
    "b=temp\n",
    "print(\"a =\",a)\n",
    "print(\"b =\",b)"
   ]
  },
  {
   "attachments": {},
   "cell_type": "markdown",
   "metadata": {},
   "source": [
    "Значение x вводится с клавиатуры. Вычислите y=(x+1)^2⋅(x^3+1)^(1/2) Выведите на экран значения x и y с тремя знаками после запятой."
   ]
  },
  {
   "cell_type": "code",
   "execution_count": 4,
   "metadata": {
    "tags": []
   },
   "outputs": [
    {
     "name": "stdout",
     "output_type": "stream",
     "text": [
      "x = 12\n",
      "y = 7027.230535566625\n",
      "7027.231\n"
     ]
    }
   ],
   "source": [
    "x = int(input(\"Enter x:\"))\n",
    "y = (x+1)**2 * (x**3+1)**(1/2)\n",
    "print(\"x =\",x)\n",
    "print(\"y =\",y)\n",
    "print(f\"{y:.{3}f}\")"
   ]
  },
  {
   "attachments": {},
   "cell_type": "markdown",
   "metadata": {},
   "source": [
    "Вычислите сумму цифр пятизначного числа"
   ]
  },
  {
   "cell_type": "code",
   "execution_count": null,
   "metadata": {
    "tags": []
   },
   "outputs": [
    {
     "name": "stdout",
     "output_type": "stream",
     "text": [
      "Enter number: 12345\n"
     ]
    },
    {
     "name": "stdout",
     "output_type": "stream",
     "text": [
      "15\n"
     ]
    }
   ],
   "source": [
    "number = int(input(\"Enter number:\"))\n",
    "a = number%10\n",
    "number = number//10\n",
    "b = number%10\n",
    "number = number//10\n",
    "c = number%10\n",
    "number = number//10\n",
    "d = number%10\n",
    "number = number//10\n",
    "e = number\n",
    "print(a+b+c+d+e)"
   ]
  },
  {
   "attachments": {},
   "cell_type": "markdown",
   "metadata": {},
   "source": [
    "Для заданного трехзначного числа выведите число, у которого цифры идут в обратном порядке, например, для числа 123 ответ 321."
   ]
  },
  {
   "cell_type": "code",
   "execution_count": null,
   "metadata": {
    "tags": []
   },
   "outputs": [
    {
     "name": "stdout",
     "output_type": "stream",
     "text": [
      "Enter 3-digit number:  543\n"
     ]
    },
    {
     "name": "stdout",
     "output_type": "stream",
     "text": [
      "Reverse:  345\n"
     ]
    }
   ],
   "source": [
    "n1 = input(\"Enter 3-digit number: \")\n",
    "n_list = list(n1)\n",
    "n_list.reverse()\n",
    "n2 = \"\".join(n_list)\n",
    "print(\"Reverse: \", n2)"
   ]
  },
  {
   "attachments": {},
   "cell_type": "markdown",
   "metadata": {},
   "source": [
    "Ввести координаты 2 точек: (x1,y1) и (x2,y2). Вычислите расстояние между этими точками. Результат выведите с 5 знаками после запятой."
   ]
  },
  {
   "cell_type": "code",
   "execution_count": null,
   "metadata": {
    "tags": []
   },
   "outputs": [
    {
     "name": "stdout",
     "output_type": "stream",
     "text": [
      "Enter x1: 1\n",
      "Enter y1: 2\n",
      "Enter x2: 3\n",
      "Enter y2: 4\n"
     ]
    },
    {
     "name": "stdout",
     "output_type": "stream",
     "text": [
      "Result:  2.82843\n"
     ]
    }
   ],
   "source": [
    "x1 = int(input(\"Enter x1:\"))\n",
    "y1 = int(input(\"Enter y1:\"))\n",
    "x2 = int(input(\"Enter x2:\"))\n",
    "y2 = int(input(\"Enter y2:\"))\n",
    "res = ((x1-x2)**2+(y1-y2)**2)**(1/2)\n",
    "print(\"Result: \",f\"{res:.{5}f}\")"
   ]
  },
  {
   "attachments": {},
   "cell_type": "markdown",
   "metadata": {},
   "source": [
    "Разработать программу вычисления по известному радиусу площади круга и длины окружности."
   ]
  },
  {
   "cell_type": "code",
   "execution_count": null,
   "metadata": {
    "tags": []
   },
   "outputs": [
    {
     "name": "stdout",
     "output_type": "stream",
     "text": [
      "Enter r:  5\n"
     ]
    },
    {
     "name": "stdout",
     "output_type": "stream",
     "text": [
      "Length  31.416\n",
      "Square  78.540\n"
     ]
    }
   ],
   "source": [
    "import math\n",
    "r = int(input(\"Enter r: \"))\n",
    "s = math.pi * r**2\n",
    "l = 2 * math.pi * r\n",
    "print(\"Length \",f\"{l:.{3}f}\")\n",
    "print(\"Square \",f\"{s:.{3}f}\")"
   ]
  },
  {
   "attachments": {},
   "cell_type": "markdown",
   "metadata": {},
   "source": [
    "Разработать программу по вычислению площади кольца по известным значениям его внешнего и внутреннего радиусов."
   ]
  },
  {
   "cell_type": "code",
   "execution_count": null,
   "metadata": {
    "tags": []
   },
   "outputs": [
    {
     "name": "stdout",
     "output_type": "stream",
     "text": [
      "Ring  50.265\n"
     ]
    }
   ],
   "source": [
    "import math\n",
    "r1 = 5\n",
    "r2 = 3\n",
    "s = math.pi * (r1**2 - r2**2)\n",
    "print(\"Ring \",f\"{s:.{3}f}\")"
   ]
  },
  {
   "attachments": {},
   "cell_type": "markdown",
   "metadata": {},
   "source": [
    "Разработать программу вычисления радиуса круга и его площади по известной длине окружности."
   ]
  },
  {
   "cell_type": "code",
   "execution_count": null,
   "metadata": {
    "tags": []
   },
   "outputs": [
    {
     "name": "stdout",
     "output_type": "stream",
     "text": [
      "Radius  1.223\n",
      "Square  7.679\n"
     ]
    }
   ],
   "source": [
    "import math\n",
    "l = 10\n",
    "r2 = 10/math.pi\n",
    "r = r**(1/2)\n",
    "s = 2 * math.pi * r\n",
    "print(\"Radius \",f\"{r:.{3}f}\")\n",
    "print(\"Square \",f\"{s:.{3}f}\")"
   ]
  },
  {
   "attachments": {},
   "cell_type": "markdown",
   "metadata": {},
   "source": [
    "Разработать программу вычисления объема шара: а) по радиусу; б) по длине его экваториальной параллели. Объём шара рассчитывается по формуле V=4/3*πr^3, где r - радиус."
   ]
  },
  {
   "cell_type": "code",
   "execution_count": null,
   "metadata": {
    "tags": []
   },
   "outputs": [
    {
     "name": "stdout",
     "output_type": "stream",
     "text": [
      "Volume  113.097\n"
     ]
    }
   ],
   "source": [
    "import math\n",
    "r = 3\n",
    "v = (4/3)*math.pi*(r**3)\n",
    "print(\"Volume \",f\"{v:.{3}f}\")"
   ]
  },
  {
   "attachments": {},
   "cell_type": "markdown",
   "metadata": {},
   "source": [
    "Имеются два n–мерных вектора x и y, которые задают координаты 𝑛 точек на плоскости (случайные целые числа). Найти наиболее близкие друг другу точки."
   ]
  },
  {
   "cell_type": "code",
   "execution_count": null,
   "metadata": {},
   "outputs": [],
   "source": [
    "???"
   ]
  },
  {
   "attachments": {},
   "cell_type": "markdown",
   "metadata": {},
   "source": [
    "Треугольник задан координатами своих вершин: (x1,y1),(x2,y2),(x3,y3). Значения координат определите с помощью присваивания. Они могут быть нецелыми. Найти периметр и площадь треугольника."
   ]
  },
  {
   "cell_type": "code",
   "execution_count": null,
   "metadata": {
    "tags": []
   },
   "outputs": [
    {
     "name": "stdout",
     "output_type": "stream",
     "text": [
      "4.0 3.0 5.0\n",
      "Perimeter  12.000\n",
      "Square 77.769\n"
     ]
    }
   ],
   "source": [
    "x1 = 0\n",
    "x2 = 0\n",
    "x3 = 3\n",
    "y1 = 0\n",
    "y2 = 4\n",
    "y3 = 0\n",
    "a = ((x1-x2)**2+(y1-y2)**2)**(1/2)\n",
    "b = ((x1-x3)**2+(y1-y3)**2)**(1/2)\n",
    "c = ((x3-x2)**2+(y3-y2)**2)**(1/2)\n",
    "p = a + b + c\n",
    "s = (p * (p-a) * (p-b) * (p-c))**(1/2)\n",
    "print(a,b,c)\n",
    "print(\"Perimeter \",f\"{p:.{3}f}\")\n",
    "print(\"Square\", f\"{s:.{3}f}\")"
   ]
  },
  {
   "attachments": {},
   "cell_type": "markdown",
   "metadata": {},
   "source": [
    "Пусть пользователь вводит 5 чисел: а, b, c, d, e. Реализуйте программу расчета выражения вида  𝑟𝑒𝑠=(𝑎+𝑏𝑐)/(2𝑑−𝑒)+Ost[b^e/c], где  𝑂𝑠𝑡  - остаток от деления. Учесть невозможность деления на 0."
   ]
  },
  {
   "cell_type": "code",
   "execution_count": null,
   "metadata": {
    "tags": []
   },
   "outputs": [
    {
     "name": "stdout",
     "output_type": "stream",
     "text": [
      "Enter a:  1\n",
      "Enter b:  2\n",
      "Enter c:  3\n",
      "Enter d:  4\n",
      "Enter e:  5\n"
     ]
    },
    {
     "name": "stdout",
     "output_type": "stream",
     "text": [
      "Ost  10.667\n",
      "Result  13.000\n"
     ]
    }
   ],
   "source": [
    "a = int(input(\"Enter a: \"))\n",
    "b = int(input(\"Enter b: \"))\n",
    "c = int(input(\"Enter c: \"))\n",
    "d = int(input(\"Enter d: \"))\n",
    "e = int(input(\"Enter e: \"))\n",
    "ost = b**e/c\n",
    "print(\"Ost \",f\"{ost:.{3}f}\")\n",
    "if 2*d-e == 0:\n",
    "    print(\"Error!\")\n",
    "else: \n",
    "    res = (a + b * c) / (2*d - e) + ost\n",
    "    print(\"Result \",f\"{res:.{3}f}\")"
   ]
  },
  {
   "attachments": {},
   "cell_type": "markdown",
   "metadata": {},
   "source": [
    "Введите строку, состоящую из двух цифр. Преобразуйте ее в целое и вещественное число. Выведите полученные три значения (строку, целое число, вещественное число) на экран в одной строке через запятую, затем пропустите строку и вновь выведите значения по одному на строке. Перед каждым значением выведите его тип."
   ]
  },
  {
   "cell_type": "code",
   "execution_count": null,
   "metadata": {},
   "outputs": [
    {
     "name": "stdout",
     "output_type": "stream",
     "text": [
      "Enter string 23\n",
      "23 , 23 , 23\n",
      "\n",
      "<class 'str'> 23\n",
      "<class 'int'> 23\n",
      "<class 'float'> 23.0\n"
     ]
    }
   ],
   "source": [
    "s = str(input(\"Enter string \"))\n",
    "s1 = int(s)\n",
    "s2 = float(s)\n",
    "print(s,\",\",s1,\",\",s1)\n",
    "print()\n",
    "print(type(s), s)\n",
    "print(type(s1),s1)\n",
    "print(type(s2),s2)"
   ]
  },
  {
   "attachments": {},
   "cell_type": "markdown",
   "metadata": {},
   "source": [
    "Для строки 'Финансовый университет' двумя способами получить подстроку с 1-го по 4-й символы включительно."
   ]
  },
  {
   "cell_type": "code",
   "execution_count": null,
   "metadata": {},
   "outputs": [
    {
     "name": "stdout",
     "output_type": "stream",
     "text": [
      "Фина\n",
      "Фина\n"
     ]
    }
   ],
   "source": [
    "s = 'Финансовый университет'\n",
    "s1 = s[0:4]\n",
    "s2 = ''\n",
    "print(s1)\n",
    "i = 0\n",
    "while i<4:\n",
    "    s2+=s[i]\n",
    "    i+=1\n",
    "print(s2)"
   ]
  },
  {
   "attachments": {},
   "cell_type": "markdown",
   "metadata": {},
   "source": [
    "Составить строку из всех четных символов строки 'Финансовый университет'."
   ]
  },
  {
   "cell_type": "code",
   "execution_count": null,
   "metadata": {},
   "outputs": [
    {
     "name": "stdout",
     "output_type": "stream",
     "text": [
      "Фнноы нврие\n"
     ]
    }
   ],
   "source": [
    "s = 'Финансовый университет'\n",
    "s1 = ''\n",
    "i = 0\n",
    "for letter in s:\n",
    "    if i%2==0:\n",
    "        s1+=letter\n",
    "    i+=1\n",
    "print(s1)"
   ]
  },
  {
   "attachments": {},
   "cell_type": "markdown",
   "metadata": {},
   "source": [
    "Получить подстроку неизвестной заранее строки, содержащую половину символов строки и расположенную посередине строки."
   ]
  },
  {
   "cell_type": "code",
   "execution_count": null,
   "metadata": {},
   "outputs": [
    {
     "name": "stdout",
     "output_type": "stream",
     "text": [
      "Enter string fghjkl\n",
      "hj\n"
     ]
    }
   ],
   "source": [
    "s = str(input(\"Enter string \"))\n",
    "i = len(s)\n",
    "i1 = int(i/2)\n",
    "i2 = int(i1/2)\n",
    "s1 = s[i1-i2:i1+i2]\n",
    "print(s1)"
   ]
  },
  {
   "attachments": {},
   "cell_type": "markdown",
   "metadata": {},
   "source": [
    "Коротко записать создание строки 'oneoneoneoneoneonetwotwotwo'"
   ]
  },
  {
   "cell_type": "code",
   "execution_count": null,
   "metadata": {},
   "outputs": [
    {
     "name": "stdout",
     "output_type": "stream",
     "text": [
      "oneoneoneoneoneonetwotwotwo\n",
      "oneoneoneoneonetwotwotwo\n"
     ]
    }
   ],
   "source": [
    "print('one' * 5 + 'two' * 3)"
   ]
  },
  {
   "attachments": {},
   "cell_type": "markdown",
   "metadata": {},
   "source": [
    "Для введенной строки выведите (на отдельной строке):\n",
    "второй символ этой строки;\n",
    "предпоследний символ этой строки;\n",
    "всю строку, кроме последних двух символов;\n",
    "все символы с четными индексами (считая, что индексация начинается с 0, поэтому символы выводятся, начиная с первого);\n",
    "все символы с нечетными индексами, то есть начиная со второго символа строки;\n",
    "все символы в обратном порядке;\n",
    "все символы строки через один в обратном порядке, начиная с последнего;\n",
    "длину данной строки."
   ]
  },
  {
   "cell_type": "code",
   "execution_count": null,
   "metadata": {},
   "outputs": [
    {
     "name": "stdout",
     "output_type": "stream",
     "text": [
      "e\n",
      "d\n",
      "HloWrd\n",
      "el ol!\n",
      "!dlroW olleH\n",
      "drWolH\n",
      "12\n"
     ]
    }
   ],
   "source": [
    "s = 'Hello World!'\n",
    "print(s[1])\n",
    "print(s[len(s)-2])\n",
    "s1 = ''\n",
    "i = 0\n",
    "for letter in s:\n",
    "    if i%2==0:\n",
    "        s1+=letter\n",
    "    i+=1\n",
    "print(s1)\n",
    "s2 = ''\n",
    "i = 0\n",
    "for letter in s:\n",
    "    i+=1\n",
    "    if i%2==0:\n",
    "        s2+=letter\n",
    "print(s2)\n",
    "s3 = ''\n",
    "i=-1\n",
    "for letter in s:\n",
    "    s3 += s[i]\n",
    "    i-=1  \n",
    "print(s3)\n",
    "s4 = ''\n",
    "i=-1\n",
    "for letter in s:\n",
    "    if i%2==0:\n",
    "        s4 += s[i]\n",
    "    i-=1  \n",
    "print(s4)\n",
    "print(len(s))\n",
    "\n",
    "\n",
    "\n",
    "strl = input(\"Введите строку: \")\n",
    "print(\"Второй символ строки:\", strl[1])\n",
    "print(\"Предпоследний символ строки:\", strl[-2])\n",
    "print(\"Строка без последних двух символов:\", strl[:-2])\n",
    "print(\"Символы с четными индексами:\", strl[::2])\n",
    "print(\"Символы с нечетными индексами:\", strl[1::2])\n",
    "print(\"Символы в обратном порядке:\", strl[::-1])\n",
    "print(\"Символы через один в обратном порядке, начиная с последнего:\", strl[-1::-2])\n",
    "print(\"Длина строки:\", len(strl))"
   ]
  },
  {
   "attachments": {},
   "cell_type": "markdown",
   "metadata": {},
   "source": []
  },
  {
   "attachments": {},
   "cell_type": "markdown",
   "metadata": {},
   "source": [
    "Не используя метод count, для заданной строки выполните:\n",
    "если символ * в данной строке отсутствует, выведите текст «нет символа»;\n",
    "если символ * встречается в строке только один раз, выведите его индекс;\n",
    "если символ * встречается два и более раз, выведите индекс его первого, второго и последнего вхождения, удалите первый и последний символ * из строки."
   ]
  },
  {
   "cell_type": "code",
   "execution_count": null,
   "metadata": {},
   "outputs": [
    {
     "name": "stdout",
     "output_type": "stream",
     "text": [
      "Found\n",
      "Found\n",
      "Found\n",
      "5\n",
      "6\n",
      "7\n"
     ]
    },
    {
     "data": {
      "text/plain": [
       "'HelloWorld!'"
      ]
     },
     "execution_count": 1,
     "metadata": {},
     "output_type": "execute_result"
    }
   ],
   "source": [
    "s = 'Hello***World!'\n",
    "i = 0\n",
    "for letter in s:\n",
    "    if letter == \"*\":\n",
    "        i+=1\n",
    "        print(\"Found\")\n",
    "if i==1:\n",
    "    ind = s.find(\"*\")\n",
    "    print(ind)\n",
    "j = 0\n",
    "if i>1:\n",
    "    for letter in s:\n",
    "        if letter == \"*\":\n",
    "            print(j)\n",
    "        j+=1\n",
    "s.replace(\"*\",\"\")             "
   ]
  },
  {
   "attachments": {},
   "cell_type": "markdown",
   "metadata": {},
   "source": [
    "Дана строка, состоящая из слов, разделенных пробелами. В этой строке:\n",
    "удалите все лишние пробелы;\n",
    "поменяйте регистр символов;\n",
    "определите, сколько в ней слов."
   ]
  },
  {
   "cell_type": "code",
   "execution_count": null,
   "metadata": {},
   "outputs": [
    {
     "name": "stdout",
     "output_type": "stream",
     "text": [
      "Hello world!\n",
      "hELLO WORLD!\n",
      "2 Hello\n"
     ]
    }
   ],
   "source": [
    "s = 'Hello    world!'\n",
    "s1 = \"\"\n",
    "while \"  \" in s:\n",
    "    s = s.replace(\"  \", \" \")\n",
    "print(s)\n",
    "for letter in s:\n",
    "    if letter.islower():\n",
    "        letter = letter.upper()\n",
    "    else:\n",
    "        letter = letter.lower()\n",
    "    s1 += letter\n",
    "parts = s.split()\n",
    "print(s1)\n",
    "print(len(parts), parts[0])"
   ]
  },
  {
   "attachments": {},
   "cell_type": "markdown",
   "metadata": {},
   "source": [
    "Строка содержит фамилию, имя и отчество, записанные через пробелы. Например «Иванов Иван Иванович». Для этой строки:\n",
    "выведите информацию в виде:\n",
    "Фамилия       Иванов\n",
    "Имя           Иван\n",
    "Отчество      Иванович\n",
    "получите строки вида «Иванов И.И.» и «И.И. Иванов»."
   ]
  },
  {
   "cell_type": "code",
   "execution_count": 12,
   "metadata": {},
   "outputs": [
    {
     "name": "stdout",
     "output_type": "stream",
     "text": [
      "Фамилия   jfjfjf\n",
      "Имя       jfj\n",
      "Отчество  jjff\n",
      "Имя в формате \"Фамилия И.И.\": jfjfjf j.j.\n",
      "Имя в формате \"И.И. Фамилия\": j.j. jfjfjf\n"
     ]
    }
   ],
   "source": [
    "a = input(\"Введите фамилию, имя и отчество через пробелы: \")\n",
    "\n",
    "parts = a.split()\n",
    "surname, name, lastname = parts\n",
    "\n",
    "print(\"Фамилия  \", surname)\n",
    "print(\"Имя      \", name)\n",
    "print(\"Отчество \", lastname)\n",
    "\n",
    "name_ = f\"{surname} {name[0]}.{lastname[0]}.\"\n",
    "print(\"Имя в формате \\\"Фамилия И.И.\\\":\", name_)\n",
    "\n",
    "_name = f\"{name[0]}.{lastname[0]}. {surname}\"\n",
    "print(\"Имя в формате \\\"И.И. Фамилия\\\":\", _name)"
   ]
  },
  {
   "attachments": {},
   "cell_type": "markdown",
   "metadata": {},
   "source": [
    "Напишите программу, которая осуществляет вывод кошки на экран. Примечание: кошка выглядят примерно так:\n",
    "         /\\_/\\ \n",
    "         /@ @\\ \n",
    "        (~~0~~)"
   ]
  },
  {
   "cell_type": "code",
   "execution_count": null,
   "metadata": {},
   "outputs": [
    {
     "name": "stdout",
     "output_type": "stream",
     "text": [
      " /\\_/\\\n",
      " /@ @\\\n",
      "(~~0~~)\n"
     ]
    }
   ],
   "source": [
    "print(\" /\\_/\\\\\")\n",
    "print(\" /@ @\\\\\")\n",
    "print(\"(~~0~~)\")"
   ]
  },
  {
   "attachments": {},
   "cell_type": "markdown",
   "metadata": {},
   "source": [
    "Для двух произвольных строк провести сравнение на совпадение содержимого без учета регистра букв и начальных и конечных пробельных символов. Например, для двух строк ' HeLLO WOrlD' и 'hello WORLD ' такое сравнение должно возвращать True (содержание строк совпадает)."
   ]
  },
  {
   "cell_type": "code",
   "execution_count": null,
   "metadata": {},
   "outputs": [
    {
     "name": "stdout",
     "output_type": "stream",
     "text": [
      "Ok\n"
     ]
    }
   ],
   "source": [
    "a = 'HeLLO WOrlD'\n",
    "b = 'hello WORLD'\n",
    "a = a.lower()\n",
    "b = b.lower()\n",
    "if a == b:\n",
    "    print(\"Ok\")\n",
    "else:\n",
    "    print(\"Ne Ok!\")"
   ]
  },
  {
   "attachments": {},
   "cell_type": "markdown",
   "metadata": {},
   "source": [
    "По номеру года определите, является ли данный год високосным. (год является високосным, если его номер кратен 4, но не кратен 100, а также если он кратен 400)."
   ]
  },
  {
   "cell_type": "code",
   "execution_count": null,
   "metadata": {},
   "outputs": [
    {
     "name": "stdout",
     "output_type": "stream",
     "text": [
      "<function <lambda> at 0x0000025A1F7CB420>\n"
     ]
    }
   ],
   "source": [
    "a = int(input(\"Enter year \"))\n",
    "if a%4==0:\n",
    "    print(\"Yes\")\n",
    "else:\n",
    "    print(\"No\")\n",
    "\n",
    "#print(lambda x: 'Yes' if x%2==0 else 'No')"
   ]
  },
  {
   "attachments": {},
   "cell_type": "markdown",
   "metadata": {},
   "source": [
    "Даны точки  𝐴=(1,1),𝐵=(5,5),𝐶=(1,4),𝐷=(7,2). Найти точку пересечения отрезков  𝐴𝐵 и  𝐶𝐷."
   ]
  },
  {
   "cell_type": "code",
   "execution_count": 7,
   "metadata": {},
   "outputs": [
    {
     "name": "stdout",
     "output_type": "stream",
     "text": [
      "Точка пересечения отрезков AB и CD:  3.25   3.25\n"
     ]
    }
   ],
   "source": [
    "A = (1, 1)\n",
    "B = (5, 5)\n",
    "C = (1, 4)\n",
    "D = (7, 2)\n",
    "\n",
    "AB = (B[1] - A[1]) / (B[0] - A[0])\n",
    "CD = (D[1] - C[1]) / (D[0] - C[0])\n",
    "\n",
    "if AB == CD:\n",
    "    print(\"Отрезки AB и CD параллельны и не имеют точки пересечения.\")\n",
    "else:\n",
    "    x = (AB * A[0] - A[1] - CD * C[0] + C[1]) / (AB - CD)\n",
    "    y = AB * (x - A[0]) + A[1]\n",
    "\n",
    "    print(\"Точка пересечения отрезков AB и CD: \", x, ' ', y)"
   ]
  }
 ],
 "metadata": {
  "kernelspec": {
   "display_name": "Python 3 (ipykernel)",
   "language": "python",
   "name": "python3"
  },
  "language_info": {
   "codemirror_mode": {
    "name": "ipython",
    "version": 3
   },
   "file_extension": ".py",
   "mimetype": "text/x-python",
   "name": "python",
   "nbconvert_exporter": "python",
   "pygments_lexer": "ipython3",
   "version": "3.11.6"
  },
  "toc": {
   "base_numbering": 1,
   "nav_menu": {},
   "number_sections": true,
   "sideBar": true,
   "skip_h1_title": false,
   "title_cell": "Table of Contents",
   "title_sidebar": "Contents",
   "toc_cell": true,
   "toc_position": {},
   "toc_section_display": true,
   "toc_window_display": false
  },
  "varInspector": {
   "cols": {
    "lenName": 16,
    "lenType": 16,
    "lenVar": 40
   },
   "kernels_config": {
    "python": {
     "delete_cmd_postfix": "",
     "delete_cmd_prefix": "del ",
     "library": "var_list.py",
     "varRefreshCmd": "print(var_dic_list())"
    },
    "r": {
     "delete_cmd_postfix": ") ",
     "delete_cmd_prefix": "rm(",
     "library": "var_list.r",
     "varRefreshCmd": "cat(var_dic_list()) "
    }
   },
   "types_to_exclude": [
    "module",
    "function",
    "builtin_function_or_method",
    "instance",
    "_Feature"
   ],
   "window_display": false
  }
 },
 "nbformat": 4,
 "nbformat_minor": 4
}
