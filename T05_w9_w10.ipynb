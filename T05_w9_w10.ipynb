{
 "cells": [
  {
   "cell_type": "markdown",
   "metadata": {},
   "source": [
    "Создайте словарь food продуктов питания, ключами которого являются наименования, а значениями цены. Исходные данные для словаря:\n",
    "titles=('apples,grape,bananas,watermelons,tomatoes'.split(','))\n",
    "prices=(20,25,15,11,15)"
   ]
  },
  {
   "cell_type": "code",
   "execution_count": 1,
   "metadata": {},
   "outputs": [
    {
     "name": "stdout",
     "output_type": "stream",
     "text": [
      "{'apples': 100, 'grape': 50, 'bananas': 60, 'watermelons': 20, 'tomatoes': 150}\n"
     ]
    }
   ],
   "source": [
    "titles=('apples,grape,bananas,watermelons,tomatoes'.split(','))\n",
    "prices=(100,50,60,20,150)\n",
    "food = dict(zip(titles,prices))\n",
    "print(food)"
   ]
  },
  {
   "cell_type": "markdown",
   "metadata": {},
   "source": [
    "Удалите из словаря food арбузы (watermelons) и добавьте дыни (melons) по той же цене."
   ]
  },
  {
   "cell_type": "code",
   "execution_count": 2,
   "metadata": {},
   "outputs": [
    {
     "name": "stdout",
     "output_type": "stream",
     "text": [
      "{'apples': 100, 'grape': 50, 'bananas': 60, 'tomatoes': 150, 'melons': 20}\n"
     ]
    }
   ],
   "source": [
    "food[\"melons\"]=food.pop(\"watermelons\")\n",
    "print(food)"
   ]
  },
  {
   "cell_type": "markdown",
   "metadata": {},
   "source": [
    "Все цены снижены на 15%. Обновите словарь продуктов."
   ]
  },
  {
   "cell_type": "code",
   "execution_count": 3,
   "metadata": {},
   "outputs": [
    {
     "name": "stdout",
     "output_type": "stream",
     "text": [
      "{'apples': 85.0, 'grape': 42.5, 'bananas': 51.0, 'tomatoes': 127.5, 'melons': 17.0}\n"
     ]
    }
   ],
   "source": [
    "for i in food:\n",
    "    food[i]*=0.85\n",
    "print(food)"
   ]
  },
  {
   "cell_type": "markdown",
   "metadata": {},
   "source": [
    "Поменяйте местами цены и названия, пусть ключами словаря станут цены, а значениями - названия. Изменилось ли при этом количество элементов словаря? Если да, то объясните, почему."
   ]
  },
  {
   "cell_type": "code",
   "execution_count": 38,
   "metadata": {},
   "outputs": [
    {
     "name": "stdout",
     "output_type": "stream",
     "text": [
      "{17.0: 'apples', 21.25: 'grape', 12.75: 'tomatoes', 9.35: 'melons'}\n"
     ]
    }
   ],
   "source": [
    "food2= {}\n",
    "\n",
    "for key,value in food1.items():\n",
    "    food2[value]=key\n",
    "\n",
    "print(food2)"
   ]
  },
  {
   "cell_type": "markdown",
   "metadata": {},
   "source": [
    "Студентка Александра родилась 11 июня 2003 года в 12 часов дня. Рассчитать время в минутах с момента рождения."
   ]
  },
  {
   "cell_type": "code",
   "execution_count": 239,
   "metadata": {},
   "outputs": [
    {
     "name": "stdout",
     "output_type": "stream",
     "text": [
      "С моента рождения прошло 10704042.9335 минут\n"
     ]
    }
   ],
   "source": [
    "import datetime as dt\n",
    "bd = dt.datetime(2003, 6, 11, 18)\n",
    "now = dt.datetime.now()\n",
    "c = now-bd\n",
    "minutes = c.total_seconds() / 60\n",
    "print(f\"С момента рождения прошло {round(minutes,3)} минут\")"
   ]
  }
 ],
 "metadata": {
  "kernelspec": {
   "display_name": "Python 3 (ipykernel)",
   "language": "python",
   "name": "python3"
  },
  "language_info": {
   "codemirror_mode": {
    "name": "ipython",
    "version": 3
   },
   "file_extension": ".py",
   "mimetype": "text/x-python",
   "name": "python",
   "nbconvert_exporter": "python",
   "pygments_lexer": "ipython3",
   "version": "3.11.4"
  }
 },
 "nbformat": 4,
 "nbformat_minor": 2
}
