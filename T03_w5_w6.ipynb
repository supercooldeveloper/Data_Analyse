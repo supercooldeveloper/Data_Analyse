{
 "cells": [
  {
   "cell_type": "markdown",
   "metadata": {},
   "source": [
    "Имеется список из 20 случайных чисел от 0 до 100. \n",
    "Напишите функцию, которая разбивает этот список на n списков по k элементов и включает все эти списки в новый список. \n",
    "Используйте k в качестве параметра функции."
   ]
  },
  {
   "cell_type": "code",
   "execution_count": 5,
   "metadata": {},
   "outputs": [
    {
     "name": "stdout",
     "output_type": "stream",
     "text": [
      "4\n",
      "5\n",
      "[65, 57, 80, 71, 45, 9, 13, 44, 98, 17, 94, 2, 84, 89, 86, 96, 78, 5, 68, 83]\n"
     ]
    },
    {
     "data": {
      "text/plain": [
       "[[65, 57, 80, 71, 45],\n",
       " [9, 13, 44, 98, 17],\n",
       " [94, 2, 84, 89, 86],\n",
       " [96, 78, 5, 68, 83]]"
      ]
     },
     "execution_count": 5,
     "metadata": {},
     "output_type": "execute_result"
    }
   ],
   "source": [
    "import random\n",
    "\n",
    "def splt(lst,n, k):\n",
    "    list = []\n",
    "    if n*k<=20:\n",
    "         list = [lst[j:k + j] for j in range(0,len(lst),k)]        \n",
    "         return list\n",
    "    else:\n",
    "        return 'Error!'\n",
    "    \n",
    "n = int(input())\n",
    "k = int(input())\n",
    "\n",
    "lst = [random.randint(0,100) for i in range(20)]\n",
    "\n",
    "print(lst)\n",
    "\n",
    "splt(lst,n,k)"
   ]
  },
  {
   "cell_type": "markdown",
   "metadata": {},
   "source": [
    "Напишите функцию, вычисляющую факториал числа, передаваемого в качестве параметра."
   ]
  },
  {
   "cell_type": "code",
   "execution_count": 8,
   "metadata": {},
   "outputs": [
    {
     "name": "stdout",
     "output_type": "stream",
     "text": [
      "4\n",
      "24\n"
     ]
    }
   ],
   "source": [
    "def factorial(n):\n",
    "    if (n==1 or n==0):\n",
    "        return 1\n",
    "    else:  \n",
    "        return (n * factorial(n - 1))\n",
    "          \n",
    "print(factorial(int(input())))"
   ]
  },
  {
   "cell_type": "markdown",
   "metadata": {},
   "source": [
    "Написать функцию умножения, принимающую от одного до трех параметров. Функцию вызвать с приведенными ниже аргументами. Для случая a4 выбрать 3 первых и 3 последних значения.\n",
    "\n",
    "a1 = (15, 10 ,5)\n",
    "a2 = (3, 1)\n",
    "a3 = [2, 35, 55]\n",
    "a4 = (5, 10 ,15, 20)\n"
   ]
  },
  {
   "cell_type": "code",
   "execution_count": 9,
   "metadata": {},
   "outputs": [
    {
     "name": "stdout",
     "output_type": "stream",
     "text": [
      "750\n",
      "3\n",
      "3850\n",
      "3000\n"
     ]
    }
   ],
   "source": [
    "import numpy as np\n",
    "\n",
    "def multiply(*a):\n",
    "    result = 1\n",
    "    for i in a:\n",
    "        if len(i) >= 3:\n",
    "            result = np.prod(i[:3])\n",
    "            result = np.prod(i[-3:])\n",
    "        else:\n",
    "            result = np.prod(i)\n",
    "    return result\n",
    "\n",
    "\n",
    "a1 = (15, 10 ,5)\n",
    "a2 = (3, 1)\n",
    "a3 = (2, 35, 55)\n",
    "a4 = (5, 10 ,15, 20)\n",
    "\n",
    "print(multiply(a1))\n",
    "print(multiply(a2))\n",
    "print(multiply(a3))\n",
    "print(multiply(a4))"
   ]
  },
  {
   "cell_type": "markdown",
   "metadata": {},
   "source": [
    "Напишите функцию, которая для заданного радиуса r вычисляет площадь круга и длину окружности"
   ]
  },
  {
   "cell_type": "code",
   "execution_count": 12,
   "metadata": {},
   "outputs": [
    {
     "name": "stdout",
     "output_type": "stream",
     "text": [
      "4\n",
      "(25.133, 50.265)\n"
     ]
    }
   ],
   "source": [
    "import math\n",
    "\n",
    "def func(r):\n",
    "    return round(2 * math.pi * r,3),round(math.pi * r**2,3)\n",
    "\n",
    "print(func(float(input())))"
   ]
  },
  {
   "cell_type": "markdown",
   "metadata": {},
   "source": [
    "Реализовать функции для выполнения четырех арифметических операций, преобразующих целые числа в целое число. Создать словарь с функциями исоответствующими им символами операций. Для двух заранее заданных целых чисел (например, 25 и 4) выполнить выбранную пользователем арифметическую операцию."
   ]
  },
  {
   "cell_type": "code",
   "execution_count": 16,
   "metadata": {},
   "outputs": [
    {
     "name": "stdout",
     "output_type": "stream",
     "text": [
      "29\n",
      "21\n",
      "100\n",
      "6\n"
     ]
    }
   ],
   "source": [
    "def op(match, array):\n",
    "        return array[match]\n",
    "\n",
    "array = {\n",
    "    \"plus\": lambda x, y: x + y,\n",
    "    \"minus\": lambda x, y: x - y,\n",
    "    \"multiplication\": lambda x, y: x * y,\n",
    "    \"division\": lambda x, y: x // y\n",
    "    }\n",
    "\n",
    "plus = op('plus', array)\n",
    "minus = op('minus', array)\n",
    "multiplication = op('multiplication', array)\n",
    "division = op('division', array)\n",
    "\n",
    "print(plus(25,4))\n",
    "print(minus(25,4))\n",
    "print(multiplication(25,4))\n",
    "print(division(25,4))"
   ]
  },
  {
   "cell_type": "markdown",
   "metadata": {},
   "source": [
    "Написать калькулятор для строковых выражений вида '<число> <операция> <число>', где <число> - целое число, например 113, <арифметическая операция> - одна из операций `+,-,*,//,%,^`. Пример: `calc('13 - 5') -> 8`"
   ]
  },
  {
   "cell_type": "code",
   "execution_count": 26,
   "metadata": {},
   "outputs": [
    {
     "name": "stdout",
     "output_type": "stream",
     "text": [
      "Enter expression 1 + 1\n",
      "1 + 1 = 2\n"
     ]
    }
   ],
   "source": [
    "def calculate(s):\n",
    "    a = int(expression[0])\n",
    "    b = int(expression[2])\n",
    "    \n",
    "    if expression[1] == '+':\n",
    "        print(f\"{a} + {b} = {a + b}\")\n",
    "    elif expression[1] == '-':\n",
    "        print(f\"{a} - {b} = {a - b}\")\n",
    "    elif expression[1] == '*':\n",
    "        print(f\"{a} * {b} = {a * b}\")\n",
    "    elif expression[1] == '//':\n",
    "        print(f\"{a} // {b} = {a // b}\")\n",
    "    elif expression[1] == '%':\n",
    "        print(f\"{a} % {b} = {a % b}\")\n",
    "    elif expression[1] == '':\n",
    "        print(f\"{a} ^ {b} = {a**b}\")\n",
    "\n",
    "expression = input(\"Enter expression \").split(' ')\n",
    "\n",
    "calculate(expression)"
   ]
  },
  {
   "cell_type": "markdown",
   "metadata": {},
   "source": [
    "Написать функцию, которая преобразует целое число (от 0 до 999) из текстового представления на русском языке в число типа int. Пример: to_int('тридцать три') -> 33"
   ]
  },
  {
   "cell_type": "code",
   "execution_count": 27,
   "metadata": {},
   "outputs": [
    {
     "name": "stdout",
     "output_type": "stream",
     "text": [
      "сто пятьдесят шесть\n",
      "156\n"
     ]
    }
   ],
   "source": [
    "def func(s):\n",
    "    d = 0\n",
    "    for i in s:\n",
    "        d+=s1[i]\n",
    "    return d\n",
    "\n",
    "\n",
    "s1 = {'один':1,\n",
    "      'два':2,\n",
    "      'три':3,\n",
    "      'четыре':4,\n",
    "      'пять':5,\n",
    "      'шесть':6,\n",
    "      'семь':7,\n",
    "      'восемь':8,\n",
    "      'девять':0,\n",
    "      'ноль':0,\n",
    "      'двадцать':20,\n",
    "      'тридцать':30,\n",
    "      'сорок':40,\n",
    "      'пятьдесят':50,\n",
    "      'шестьдесят':60,\n",
    "      'семьдесят':70,\n",
    "      'восемьдесят':80,\n",
    "      'девяносто':90,\n",
    "      'сто':100,\n",
    "      'двести':200,\n",
    "      'триста':300,\n",
    "      'четыреста':400,\n",
    "      'пятьсот':500,\n",
    "      'шестьсот':600,\n",
    "      'семьсот':700,\n",
    "      'восемьсот':800,\n",
    "      'девятьсот':900,\n",
    "      'десять':10,\n",
    "      'одиннадцать':11,\n",
    "      'двенадцать':12,\n",
    "      'тринадцать':13,\n",
    "      'четырнадцать':14,\n",
    "      'пятнадцать':15,\n",
    "      'шестнадцать':16,\n",
    "      'семнадцать':17,\n",
    "      'восемнадцать':18,\n",
    "      'девятнадцать':19}\n",
    "\n",
    "s = input().split(' ')\n",
    "\n",
    "print(func(s))"
   ]
  }
 ],
 "metadata": {
  "kernelspec": {
   "display_name": "Python 3 (ipykernel)",
   "language": "python",
   "name": "python3"
  },
  "language_info": {
   "codemirror_mode": {
    "name": "ipython",
    "version": 3
   },
   "file_extension": ".py",
   "mimetype": "text/x-python",
   "name": "python",
   "nbconvert_exporter": "python",
   "pygments_lexer": "ipython3",
   "version": "3.11.4"
  }
 },
 "nbformat": 4,
 "nbformat_minor": 2
}
